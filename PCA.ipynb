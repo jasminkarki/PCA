{
 "cells": [
  {
   "cell_type": "code",
   "execution_count": 1,
   "metadata": {},
   "outputs": [],
   "source": [
    "import pandas as pd\n",
    "import numpy as np\n",
    "import matplotlib.pyplot as plt\n",
    "import seaborn as sns\n",
    "from sklearn.datasets import load_digits\n",
    "import chart_studio.plotly as py\n"
   ]
  },
  {
   "cell_type": "code",
   "execution_count": 2,
   "metadata": {},
   "outputs": [
    {
     "data": {
      "text/plain": [
       "dict_keys(['data', 'target', 'target_names', 'images', 'DESCR'])"
      ]
     },
     "execution_count": 2,
     "metadata": {},
     "output_type": "execute_result"
    }
   ],
   "source": [
    "digits=load_digits()\n",
    "digits.keys()"
   ]
  },
  {
   "cell_type": "code",
   "execution_count": 3,
   "metadata": {},
   "outputs": [
    {
     "name": "stdout",
     "output_type": "stream",
     "text": [
      "[0 1 2 3 4 5 6 7 8 9]\n"
     ]
    }
   ],
   "source": [
    "X=digits['data']   # or digits.data\n",
    "y=digits['target'] # or digits.target and so on\n",
    "image=digits['images']\n",
    "label=digits.target_names\n",
    "print(label)"
   ]
  },
  {
   "cell_type": "code",
   "execution_count": null,
   "metadata": {},
   "outputs": [],
   "source": []
  },
  {
   "cell_type": "code",
   "execution_count": 4,
   "metadata": {},
   "outputs": [
    {
     "data": {
      "text/plain": [
       "(1797,)"
      ]
     },
     "execution_count": 4,
     "metadata": {},
     "output_type": "execute_result"
    }
   ],
   "source": [
    "y.shape"
   ]
  },
  {
   "cell_type": "code",
   "execution_count": 5,
   "metadata": {},
   "outputs": [
    {
     "data": {
      "text/plain": [
       "<matplotlib.image.AxesImage at 0x7f1c8625d668>"
      ]
     },
     "execution_count": 5,
     "metadata": {},
     "output_type": "execute_result"
    },
    {
     "data": {
      "image/png": "[encoded data removed]",
      "text/plain": [
       "<Figure size 432x288 with 1 Axes>"
      ]
     },
     "metadata": {
      "needs_background": "light"
     },
     "output_type": "display_data"
    }
   ],
   "source": [
    "plt.imshow(image[420],cmap='gray')"
   ]
  },
  {
   "cell_type": "code",
   "execution_count": 6,
   "metadata": {},
   "outputs": [],
   "source": [
    "image=image.reshape(-1,64)"
   ]
  },
  {
   "cell_type": "code",
   "execution_count": 7,
   "metadata": {},
   "outputs": [
    {
     "name": "stdout",
     "output_type": "stream",
     "text": [
      "Image reshaped:  (1797, 64)\n",
      "X shape:  (1797, 64)\n",
      "Y shape:  (1797,)\n"
     ]
    }
   ],
   "source": [
    "X=digits['data']\n",
    "print('Image reshaped: ',image.shape)\n",
    "print('X shape: ',X.shape)\n",
    "print('Y shape: ',y.shape)"
   ]
  },
  {
   "cell_type": "code",
   "execution_count": 8,
   "metadata": {},
   "outputs": [
    {
     "data": {
      "text/plain": [
       "(64,)"
      ]
     },
     "execution_count": 8,
     "metadata": {},
     "output_type": "execute_result"
    }
   ],
   "source": [
    "#Calculate mean of the dataset\n",
    "#Mean Vector dimension (1,64)\n",
    "#Axis 1 is row and axis 0 is column\n",
    "\n",
    "col_mean=np.mean(image,axis=0)\n",
    "col_mean.shape"
   ]
  },
  {
   "cell_type": "code",
   "execution_count": 9,
   "metadata": {},
   "outputs": [],
   "source": [
    "# Subtract mean of each column from that column\n",
    "data_norm = image - col_mean"
   ]
  },
  {
   "cell_type": "code",
   "execution_count": 10,
   "metadata": {},
   "outputs": [
    {
     "data": {
      "text/plain": [
       "64"
      ]
     },
     "execution_count": 10,
     "metadata": {},
     "output_type": "execute_result"
    }
   ],
   "source": [
    "image.shape[1]"
   ]
  },
  {
   "cell_type": "code",
   "execution_count": 11,
   "metadata": {},
   "outputs": [
    {
     "name": "stdout",
     "output_type": "stream",
     "text": [
      "(64, 64)\n"
     ]
    }
   ],
   "source": [
    "# Calculate covariance matrix from subtracted mean\n",
    "# cov= 1/(image.shape[1])*(sum(n))   #Incorrect\n",
    "\n",
    "cov=np.dot(data_norm.T,data_norm)/data_norm.shape[0]\n",
    "print(cov.shape)\n",
    "covariance=np.cov(data_norm.T)"
   ]
  },
  {
   "cell_type": "code",
   "execution_count": 12,
   "metadata": {},
   "outputs": [
    {
     "data": {
      "text/plain": [
       "array([[ 0.        ,  0.        ,  0.        , ...,  0.        ,\n",
       "         0.        ,  0.        ],\n",
       "       [ 0.        ,  0.8229975 ,  2.40099498, ..., -0.1598953 ,\n",
       "         0.09851423, -0.07406182],\n",
       "       [ 0.        ,  2.40099498, 22.60837352, ..., -1.15544033,\n",
       "         1.41203571,  0.72988047],\n",
       "       ...,\n",
       "       [ 0.        , -0.1598953 , -1.15544033, ..., 34.81734839,\n",
       "        15.64854441,  2.87558266],\n",
       "       [ 0.        ,  0.09851423,  1.41203571, ..., 15.64854441,\n",
       "        16.73258202,  4.72078588],\n",
       "       [ 0.        , -0.07406182,  0.72988047, ...,  2.87558266,\n",
       "         4.72078588,  3.46005282]])"
      ]
     },
     "execution_count": 12,
     "metadata": {},
     "output_type": "execute_result"
    }
   ],
   "source": [
    "covariance"
   ]
  },
  {
   "cell_type": "code",
   "execution_count": 13,
   "metadata": {},
   "outputs": [],
   "source": [
    "from scipy.linalg import eigh\n",
    "\n",
    "eigen_val=eigh(covariance)"
   ]
  },
  {
   "cell_type": "code",
   "execution_count": 14,
   "metadata": {},
   "outputs": [
    {
     "name": "stdout",
     "output_type": "stream",
     "text": [
      "(64,)\n"
     ]
    },
    {
     "data": {
      "text/plain": [
       "(64, 64)"
      ]
     },
     "execution_count": 14,
     "metadata": {},
     "output_type": "execute_result"
    }
   ],
   "source": [
    "eigen_val,eigen_vec=eigh(covariance)\n",
    "print(eigen_val.shape)\n",
    "eigen_vec.shape"
   ]
  },
  {
   "cell_type": "code",
   "execution_count": 15,
   "metadata": {},
   "outputs": [
    {
     "data": {
      "text/plain": [
       "array([[ 0.00000000e+00,  0.00000000e+00],\n",
       "       [ 0.00000000e+00,  0.00000000e+00],\n",
       "       [-4.60911333e-16, -7.72995727e-15],\n",
       "       [ 7.45352599e-16, -1.13460725e-15],\n",
       "       [-2.90111718e-16,  6.68361623e-16],\n",
       "       [-6.64842655e-17, -6.64023043e-16],\n",
       "       [ 1.76162404e-15, -2.56349904e-15],\n",
       "       [-1.12982083e-14,  2.26536653e-15],\n",
       "       [ 4.09013815e-14, -8.88044262e-13],\n",
       "       [-7.33260401e-17, -7.25750169e-15],\n",
       "       [ 3.07698426e-16, -2.86832824e-16],\n",
       "       [ 2.96030667e-16, -5.73098439e-15],\n",
       "       [-6.60103014e-17,  1.77077793e-15],\n",
       "       [ 3.80699805e-16,  1.06678233e-15],\n",
       "       [-2.08102162e-15,  9.32409326e-16],\n",
       "       [ 1.85797933e-14,  6.44115146e-15],\n",
       "       [-4.01384989e-13,  4.90626473e-12],\n",
       "       [ 1.15997121e-15,  5.63439398e-15],\n",
       "       [-5.55761817e-16,  3.30685929e-15],\n",
       "       [-2.99486494e-16,  7.87086313e-15],\n",
       "       [ 7.27955011e-17, -1.68963636e-15],\n",
       "       [-5.89338470e-16, -1.75187207e-15],\n",
       "       [ 2.57908139e-15, -1.04505106e-15],\n",
       "       [-5.96193074e-14, -4.59872189e-14],\n",
       "       [ 4.51729028e-13, -1.39367140e-11],\n",
       "       [-1.18164368e-15,  1.62996511e-14],\n",
       "       [ 3.45080684e-17, -6.75537295e-15],\n",
       "       [ 1.51610034e-16, -3.31999163e-15],\n",
       "       [-3.80549933e-17,  8.65712790e-16],\n",
       "       [-2.44773714e-16,  4.64754752e-15],\n",
       "       [-2.06034892e-16, -2.99128129e-15],\n",
       "       [ 7.49871588e-13,  4.77903388e-13],\n",
       "       [-2.02144365e-01,  9.79355735e-01],\n",
       "       [ 4.18828155e-16, -4.30533585e-15],\n",
       "       [-2.28321884e-16,  4.02235131e-15],\n",
       "       [ 1.32070276e-16,  3.47548383e-15],\n",
       "       [-1.66209814e-16,  7.05876047e-16],\n",
       "       [-6.57627148e-17,  5.70016084e-16],\n",
       "       [ 3.85034517e-16, -5.02006607e-15],\n",
       "       [ 9.79355735e-01,  2.02144365e-01],\n",
       "       [-2.70754428e-14, -4.17814519e-14],\n",
       "       [ 4.86410529e-16,  5.04084072e-16],\n",
       "       [ 1.82706611e-16, -4.67964925e-15],\n",
       "       [ 1.11435519e-17,  9.11040486e-16],\n",
       "       [-2.05425310e-17, -1.11841718e-15],\n",
       "       [ 4.28319657e-16, -3.36297553e-15],\n",
       "       [-3.33636061e-16,  2.40992343e-15],\n",
       "       [-6.00530619e-16, -1.23413709e-14],\n",
       "       [-9.32805187e-14,  3.78832078e-14],\n",
       "       [ 8.38985377e-16,  6.73722862e-15],\n",
       "       [-5.48012702e-16,  2.88701155e-15],\n",
       "       [-1.87408550e-16,  4.19982958e-16],\n",
       "       [ 2.50969655e-16, -2.54847510e-15],\n",
       "       [-4.50489812e-16, -3.48994856e-16],\n",
       "       [ 1.40083376e-16,  1.83881864e-15],\n",
       "       [-3.51226329e-16,  1.39835538e-14],\n",
       "       [ 4.23515108e-13, -2.56963384e-12],\n",
       "       [-1.41387892e-15,  1.51955237e-14],\n",
       "       [ 3.32940875e-17,  5.39702963e-15],\n",
       "       [-5.60310085e-16, -8.33202599e-16],\n",
       "       [ 6.27955624e-17,  7.37140379e-15],\n",
       "       [ 5.03905802e-16, -9.14287826e-15],\n",
       "       [-3.57451909e-16, -1.59121694e-15],\n",
       "       [ 5.02945360e-16, -3.64273685e-16]])"
      ]
     },
     "execution_count": 15,
     "metadata": {},
     "output_type": "execute_result"
    }
   ],
   "source": [
    "eigen_vec[:,:2]"
   ]
  },
  {
   "cell_type": "code",
   "execution_count": 16,
   "metadata": {},
   "outputs": [],
   "source": [
    "# def calc_PCA(n,eigen_val,eigen_vec):\n",
    "# #     print(eigen_val.shape)\n",
    "# #     eigen_vec.shape\n",
    "#     eigen_vec[:,:n]\n",
    "#     e_val=eigen_val[::-1]\n",
    "#     values=e_val[:n_components]\n",
    "\n",
    "# #     print(values.shape)\n",
    "#     e_vec=eigen_vec[:,::-1]\n",
    "#     vectors=e_vec[:, :n_components]\n",
    "# #     print(vectors.shape)\n",
    "#     dim_low=np.matmul(image,vectors)\n",
    "# #     dim_low.shape\n",
    "#     return dim_low\n",
    "    \n",
    "    \n",
    "# def plot_PCA(data):    \n",
    "#     two_comp_data=pd.DataFrame(data=dim_low,columns=('Principal 1','Principal 2','Principal 3'))\n",
    "\n",
    "#     plt.figure(figsize=(15,10))\n",
    "#     plt.xlabel('Principal 1')\n",
    "#     plt.ylabel('Principal 2')\n",
    "#     plt.legend()\n",
    "    \n",
    "#     if(len(two_comp_data.columns)==2):\n",
    "#         for label in set(y):\n",
    "#             d=two_comp_data[y==label]\n",
    "\n",
    "#             plt.scatter(d['Principal 1'],d['Principal 2'], label=label)\n",
    "#             plt.title('2D Plot of two principals')\n",
    "\n",
    "#     elif(len(two_comp_data.columns)==3):\n",
    "#         for label in set(y):\n",
    "#             d=two_comp_data[y==label]\n",
    "\n",
    "#             plt.scatter(d['Principal 1'],d['Principal 2'], d['Principal 3'],label=label)\n",
    "#             plt.title('3D Plot of two principals')\n",
    "\n",
    "#         plt.zlabel('Principal 3')\n",
    "    \n",
    "#     else:\n",
    "#         print('Cannot draw graph with n>2')\n",
    "    "
   ]
  },
  {
   "cell_type": "code",
   "execution_count": 17,
   "metadata": {},
   "outputs": [],
   "source": [
    "# plot_PCA(calc_PCA(3,eigen_val,eigen_vec))"
   ]
  },
  {
   "cell_type": "markdown",
   "metadata": {},
   "source": [
    "   ## Dimensional Reduction "
   ]
  },
  {
   "cell_type": "markdown",
   "metadata": {},
   "source": [
    "### Task\n",
    "1. Reverse both eigen values and eigen vector.\n",
    "2. Number of components=2\n",
    "3. No eigen values= 2 and eigen vector= 2\n",
    "4. Lower Dimension: data * eigen vector -> (dimension (1797,2))\n",
    "5. Visualize lower dimension\n",
    "6. Find the number of components Formula\n"
   ]
  },
  {
   "cell_type": "markdown",
   "metadata": {},
   "source": [
    "### Reverse the eigen value and eigen vector"
   ]
  },
  {
   "cell_type": "code",
   "execution_count": 18,
   "metadata": {},
   "outputs": [
    {
     "data": {
      "text/plain": [
       "array([ 1.79006930e+02,  1.63717747e+02,  1.41788439e+02,  1.01100375e+02,\n",
       "        6.95131656e+01,  5.91085249e+01,  5.18845391e+01,  4.40151067e+01,\n",
       "        4.03109953e+01,  3.70117984e+01,  2.85190412e+01,  2.73211698e+01,\n",
       "        2.19014881e+01,  2.13243565e+01,  1.76367222e+01,  1.69468639e+01,\n",
       "        1.58513899e+01,  1.50044602e+01,  1.22344732e+01,  1.08868593e+01,\n",
       "        1.06935663e+01,  9.58259779e+00,  9.22640260e+00,  8.69036872e+00,\n",
       "        8.36561190e+00,  7.16577961e+00,  6.91973881e+00,  6.19295508e+00,\n",
       "        5.88499123e+00,  5.15586690e+00,  4.49129656e+00,  4.24687799e+00,\n",
       "        4.04743883e+00,  3.94340334e+00,  3.70647245e+00,  3.53165306e+00,\n",
       "        3.08457409e+00,  2.73780002e+00,  2.67210896e+00,  2.54170563e+00,\n",
       "        2.28298744e+00,  1.90724229e+00,  1.81716569e+00,  1.68996439e+00,\n",
       "        1.40197220e+00,  1.29221888e+00,  1.15893419e+00,  9.31220008e-01,\n",
       "        6.69850594e-01,  4.86065217e-01,  2.52350432e-01,  9.91527944e-02,\n",
       "        6.31307848e-02,  6.07377581e-02,  3.96662297e-02,  1.49505636e-02,\n",
       "        8.47307261e-03,  3.62365957e-03,  1.27705113e-03,  6.61270906e-04,\n",
       "        4.12223305e-04,  0.00000000e+00, -5.51833858e-16, -6.44339294e-16])"
      ]
     },
     "execution_count": 18,
     "metadata": {},
     "output_type": "execute_result"
    }
   ],
   "source": [
    "e_val=eigen_val[::-1]\n",
    "e_val"
   ]
  },
  {
   "cell_type": "code",
   "execution_count": 19,
   "metadata": {},
   "outputs": [
    {
     "data": {
      "text/plain": [
       "array([[ 0.00000000e+00,  0.00000000e+00,  0.00000000e+00, ...,\n",
       "         1.00000000e+00,  0.00000000e+00,  0.00000000e+00],\n",
       "       [-1.73094651e-02, -1.01064569e-02, -1.83420720e-02, ...,\n",
       "         0.00000000e+00,  0.00000000e+00,  0.00000000e+00],\n",
       "       [-2.23428835e-01, -4.90849204e-02, -1.26475543e-01, ...,\n",
       "         0.00000000e+00, -7.72995727e-15, -4.60911333e-16],\n",
       "       ...,\n",
       "       [-8.94184677e-02,  1.76697117e-01, -2.32084163e-01, ...,\n",
       "         0.00000000e+00, -9.14287826e-15,  5.03905802e-16],\n",
       "       [-3.65977111e-02,  1.94547053e-02, -1.67026563e-01, ...,\n",
       "         0.00000000e+00, -1.59121694e-15, -3.57451909e-16],\n",
       "       [-1.14684954e-02, -6.69693895e-03, -3.48043832e-02, ...,\n",
       "         0.00000000e+00, -3.64273685e-16,  5.02945360e-16]])"
      ]
     },
     "execution_count": 19,
     "metadata": {},
     "output_type": "execute_result"
    }
   ],
   "source": [
    "e_vec=eigen_vec[:,::-1]\n",
    "e_vec\n",
    "# print(eigen_vec[0],eigen_vec[2])"
   ]
  },
  {
   "cell_type": "code",
   "execution_count": 20,
   "metadata": {},
   "outputs": [
    {
     "data": {
      "text/plain": [
       "array([[3, 2, 1],\n",
       "       [5, 4, 3],\n",
       "       [7, 6, 5]])"
      ]
     },
     "execution_count": 20,
     "metadata": {},
     "output_type": "execute_result"
    }
   ],
   "source": [
    "a=np.array([[1,2,3],[3,4,5],[5,6,7]])\n",
    "a\n",
    "a[:,::-1]"
   ]
  },
  {
   "cell_type": "markdown",
   "metadata": {},
   "source": [
    "### Two components"
   ]
  },
  {
   "cell_type": "code",
   "execution_count": 21,
   "metadata": {
    "scrolled": true
   },
   "outputs": [
    {
     "name": "stdout",
     "output_type": "stream",
     "text": [
      "(2,)\n",
      "(64, 2)\n"
     ]
    }
   ],
   "source": [
    "n_components=2\n",
    "values=e_val[:n_components]\n",
    "print(values.shape)\n",
    "\n",
    "vectors=e_vec[:, :n_components]\n",
    "print(vectors.shape)"
   ]
  },
  {
   "cell_type": "code",
   "execution_count": 22,
   "metadata": {},
   "outputs": [
    {
     "data": {
      "text/plain": [
       "(64,)"
      ]
     },
     "execution_count": 22,
     "metadata": {},
     "output_type": "execute_result"
    }
   ],
   "source": [
    "eigen_val.shape"
   ]
  },
  {
   "cell_type": "markdown",
   "metadata": {},
   "source": [
    "### Original Data* vector (Reversed, 2 components selected) --> (1797,2)"
   ]
  },
  {
   "cell_type": "code",
   "execution_count": 23,
   "metadata": {},
   "outputs": [
    {
     "data": {
      "text/plain": [
       "(1797, 2)"
      ]
     },
     "execution_count": 23,
     "metadata": {},
     "output_type": "execute_result"
    }
   ],
   "source": [
    "dim_low=np.matmul(image,vectors)\n",
    "dim_low.shape"
   ]
  },
  {
   "cell_type": "code",
   "execution_count": 24,
   "metadata": {},
   "outputs": [],
   "source": [
    "# from sklearn.decomposition import PCA\n",
    "\n",
    "# pca = PCA(n_components=2)\n",
    "# fit_pca=pca.fit_transform(eigen_vec)\n",
    "# fit_pca\n",
    "# print(fit_pca[:,0].shape)\n",
    "# print(fit_pca[:,1].shape)\n",
    "# print(fit_pca.shape)\n",
    "# colors=['navy','turquoise']\n",
    "# plt.figure(figsize=(8,8))\n",
    "# plt.scatter(fit_pca[:,0],fit_pca[:,1],color='r')\n",
    "# plt.scatter(fit_pca[:,1],fit_pca[:,0],color='g')"
   ]
  },
  {
   "cell_type": "code",
   "execution_count": 25,
   "metadata": {},
   "outputs": [
    {
     "data": {
      "text/html": [
       "<div>\n",
       "<style scoped>\n",
       "    .dataframe tbody tr th:only-of-type {\n",
       "        vertical-align: middle;\n",
       "    }\n",
       "\n",
       "    .dataframe tbody tr th {\n",
       "        vertical-align: top;\n",
       "    }\n",
       "\n",
       "    .dataframe thead th {\n",
       "        text-align: right;\n",
       "    }\n",
       "</style>\n",
       "<table border=\"1\" class=\"dataframe\">\n",
       "  <thead>\n",
       "    <tr style=\"text-align: right;\">\n",
       "      <th></th>\n",
       "      <th>Principal 1</th>\n",
       "      <th>Principal 2</th>\n",
       "    </tr>\n",
       "  </thead>\n",
       "  <tbody>\n",
       "    <tr>\n",
       "      <th>0</th>\n",
       "      <td>-0.928679</td>\n",
       "      <td>19.554616</td>\n",
       "    </tr>\n",
       "    <tr>\n",
       "      <th>1</th>\n",
       "      <td>8.288399</td>\n",
       "      <td>-22.488966</td>\n",
       "    </tr>\n",
       "    <tr>\n",
       "      <th>2</th>\n",
       "      <td>7.322710</td>\n",
       "      <td>-11.676253</td>\n",
       "    </tr>\n",
       "    <tr>\n",
       "      <th>3</th>\n",
       "      <td>-15.575318</td>\n",
       "      <td>1.612197</td>\n",
       "    </tr>\n",
       "    <tr>\n",
       "      <th>4</th>\n",
       "      <td>23.637655</td>\n",
       "      <td>2.548794</td>\n",
       "    </tr>\n",
       "    <tr>\n",
       "      <th>...</th>\n",
       "      <td>...</td>\n",
       "      <td>...</td>\n",
       "    </tr>\n",
       "    <tr>\n",
       "      <th>1792</th>\n",
       "      <td>-14.275841</td>\n",
       "      <td>11.623857</td>\n",
       "    </tr>\n",
       "    <tr>\n",
       "      <th>1793</th>\n",
       "      <td>6.795361</td>\n",
       "      <td>18.847032</td>\n",
       "    </tr>\n",
       "    <tr>\n",
       "      <th>1794</th>\n",
       "      <td>11.132071</td>\n",
       "      <td>-8.680519</td>\n",
       "    </tr>\n",
       "    <tr>\n",
       "      <th>1795</th>\n",
       "      <td>-4.541313</td>\n",
       "      <td>10.703687</td>\n",
       "    </tr>\n",
       "    <tr>\n",
       "      <th>1796</th>\n",
       "      <td>-0.013602</td>\n",
       "      <td>4.645282</td>\n",
       "    </tr>\n",
       "  </tbody>\n",
       "</table>\n",
       "<p>1797 rows × 2 columns</p>\n",
       "</div>"
      ],
      "text/plain": [
       "      Principal 1  Principal 2\n",
       "0       -0.928679    19.554616\n",
       "1        8.288399   -22.488966\n",
       "2        7.322710   -11.676253\n",
       "3      -15.575318     1.612197\n",
       "4       23.637655     2.548794\n",
       "...           ...          ...\n",
       "1792   -14.275841    11.623857\n",
       "1793     6.795361    18.847032\n",
       "1794    11.132071    -8.680519\n",
       "1795    -4.541313    10.703687\n",
       "1796    -0.013602     4.645282\n",
       "\n",
       "[1797 rows x 2 columns]"
      ]
     },
     "execution_count": 25,
     "metadata": {},
     "output_type": "execute_result"
    }
   ],
   "source": [
    "two_comp_data=pd.DataFrame(data=dim_low,columns=('Principal 1','Principal 2'))\n",
    "two_comp_data"
   ]
  },
  {
   "cell_type": "code",
   "execution_count": 26,
   "metadata": {},
   "outputs": [
    {
     "data": {
      "text/html": [
       "<div>\n",
       "<style scoped>\n",
       "    .dataframe tbody tr th:only-of-type {\n",
       "        vertical-align: middle;\n",
       "    }\n",
       "\n",
       "    .dataframe tbody tr th {\n",
       "        vertical-align: top;\n",
       "    }\n",
       "\n",
       "    .dataframe thead th {\n",
       "        text-align: right;\n",
       "    }\n",
       "</style>\n",
       "<table border=\"1\" class=\"dataframe\">\n",
       "  <thead>\n",
       "    <tr style=\"text-align: right;\">\n",
       "      <th></th>\n",
       "      <th>Principal 1</th>\n",
       "      <th>Principal 2</th>\n",
       "    </tr>\n",
       "  </thead>\n",
       "  <tbody>\n",
       "    <tr>\n",
       "      <th>0</th>\n",
       "      <td>-0.928679</td>\n",
       "      <td>19.554616</td>\n",
       "    </tr>\n",
       "    <tr>\n",
       "      <th>1</th>\n",
       "      <td>8.288399</td>\n",
       "      <td>-22.488966</td>\n",
       "    </tr>\n",
       "    <tr>\n",
       "      <th>2</th>\n",
       "      <td>7.322710</td>\n",
       "      <td>-11.676253</td>\n",
       "    </tr>\n",
       "    <tr>\n",
       "      <th>3</th>\n",
       "      <td>-15.575318</td>\n",
       "      <td>1.612197</td>\n",
       "    </tr>\n",
       "    <tr>\n",
       "      <th>4</th>\n",
       "      <td>23.637655</td>\n",
       "      <td>2.548794</td>\n",
       "    </tr>\n",
       "    <tr>\n",
       "      <th>...</th>\n",
       "      <td>...</td>\n",
       "      <td>...</td>\n",
       "    </tr>\n",
       "    <tr>\n",
       "      <th>1792</th>\n",
       "      <td>-14.275841</td>\n",
       "      <td>11.623857</td>\n",
       "    </tr>\n",
       "    <tr>\n",
       "      <th>1793</th>\n",
       "      <td>6.795361</td>\n",
       "      <td>18.847032</td>\n",
       "    </tr>\n",
       "    <tr>\n",
       "      <th>1794</th>\n",
       "      <td>11.132071</td>\n",
       "      <td>-8.680519</td>\n",
       "    </tr>\n",
       "    <tr>\n",
       "      <th>1795</th>\n",
       "      <td>-4.541313</td>\n",
       "      <td>10.703687</td>\n",
       "    </tr>\n",
       "    <tr>\n",
       "      <th>1796</th>\n",
       "      <td>-0.013602</td>\n",
       "      <td>4.645282</td>\n",
       "    </tr>\n",
       "  </tbody>\n",
       "</table>\n",
       "<p>1797 rows × 2 columns</p>\n",
       "</div>"
      ],
      "text/plain": [
       "      Principal 1  Principal 2\n",
       "0       -0.928679    19.554616\n",
       "1        8.288399   -22.488966\n",
       "2        7.322710   -11.676253\n",
       "3      -15.575318     1.612197\n",
       "4       23.637655     2.548794\n",
       "...           ...          ...\n",
       "1792   -14.275841    11.623857\n",
       "1793     6.795361    18.847032\n",
       "1794    11.132071    -8.680519\n",
       "1795    -4.541313    10.703687\n",
       "1796    -0.013602     4.645282\n",
       "\n",
       "[1797 rows x 2 columns]"
      ]
     },
     "execution_count": 26,
     "metadata": {},
     "output_type": "execute_result"
    }
   ],
   "source": [
    "set(y)\n",
    "two_comp_data"
   ]
  },
  {
   "cell_type": "code",
   "execution_count": 27,
   "metadata": {},
   "outputs": [
    {
     "data": {
      "text/plain": [
       "2"
      ]
     },
     "execution_count": 27,
     "metadata": {},
     "output_type": "execute_result"
    }
   ],
   "source": [
    "len(two_comp_data.columns)"
   ]
  },
  {
   "cell_type": "code",
   "execution_count": 28,
   "metadata": {},
   "outputs": [
    {
     "data": {
      "text/plain": [
       "<matplotlib.legend.Legend at 0x7f1c863776a0>"
      ]
     },
     "execution_count": 28,
     "metadata": {},
     "output_type": "execute_result"
    },
    {
     "data": {
      "image/png": "[encoded data removed]",
      "text/plain": [
       "<Figure size 1080x720 with 1 Axes>"
      ]
     },
     "metadata": {
      "needs_background": "light"
     },
     "output_type": "display_data"
    }
   ],
   "source": [
    "plt.figure(figsize=(15,10))\n",
    "\n",
    "for label in set(y):\n",
    "    d=two_comp_data[y==label]\n",
    "    plt.scatter(d['Principal 1'],d['Principal 2'], label=label)\n",
    "    \n",
    "plt.title('2D Plot of two principals')\n",
    "plt.xlabel('Principal 1')\n",
    "plt.ylabel('Principal 2')\n",
    "plt.legend()\n",
    "\n",
    "# plt.scatter(dim_low[:,0],dim_low[:,1],color='g')"
   ]
  },
  {
   "cell_type": "markdown",
   "metadata": {},
   "source": [
    "\"How many principal components are we going to choose for our new feature subspace?\" A useful measure is the so-called \"explained variance,\" which can be calculated from the eigenvalues. The explained variance tells us how much information (variance) can be attributed to each of the principal components."
   ]
  },
  {
   "cell_type": "code",
   "execution_count": 29,
   "metadata": {},
   "outputs": [],
   "source": [
    "significance=[np.abs(i)/np.sum(eigen_val) for i in eigen_val]"
   ]
  },
  {
   "cell_type": "code",
   "execution_count": 30,
   "metadata": {},
   "outputs": [
    {
     "data": {
      "text/plain": [
       "0.9999999999999999"
      ]
     },
     "execution_count": 30,
     "metadata": {},
     "output_type": "execute_result"
    }
   ],
   "source": [
    "sum(significance)"
   ]
  },
  {
   "cell_type": "code",
   "execution_count": 31,
   "metadata": {},
   "outputs": [
    {
     "name": "stderr",
     "output_type": "stream",
     "text": [
      "/home/jkarki/.local/lib/python3.6/site-packages/google/colab/data_table.py:30: UserWarning:\n",
      "\n",
      "IPython.utils.traitlets has moved to a top-level traitlets package.\n",
      "\n"
     ]
    },
    {
     "ename": "ValueError",
     "evalue": "\n    Invalid element(s) received for the 'data' property of \n        Invalid elements include: [array([[-9.28679193e-01,  1.95546165e+01],\n       [ 8.28839856e+00, -2.24889660e+01],\n       [ 7.32271022e+00, -1.16762534e+01],\n       ...,\n       [ 1.11320710e+01, -8.68051925e+00],\n       [-4.54131284e+00,  1.07036866e+01],\n       [-1.36023738e-02,  4.64528218e+00]])]\n\n    The 'data' property is a tuple of trace instances\n    that may be specified as:\n      - A list or tuple of trace instances\n        (e.g. [Scatter(...), Bar(...)])\n      - A single trace instance\n        (e.g. Scatter(...), Bar(...), etc.)\n      - A list or tuple of dicts of string/value properties where:\n        - The 'type' property specifies the trace type\n            One of: ['area', 'bar', 'barpolar', 'box',\n                     'candlestick', 'carpet', 'choropleth',\n                     'choroplethmapbox', 'cone', 'contour',\n                     'contourcarpet', 'densitymapbox', 'funnel',\n                     'funnelarea', 'heatmap', 'heatmapgl',\n                     'histogram', 'histogram2d',\n                     'histogram2dcontour', 'image', 'indicator',\n                     'isosurface', 'mesh3d', 'ohlc', 'parcats',\n                     'parcoords', 'pie', 'pointcloud', 'sankey',\n                     'scatter', 'scatter3d', 'scattercarpet',\n                     'scattergeo', 'scattergl', 'scattermapbox',\n                     'scatterpolar', 'scatterpolargl',\n                     'scatterternary', 'splom', 'streamtube',\n                     'sunburst', 'surface', 'table', 'treemap',\n                     'violin', 'volume', 'waterfall']\n\n        - All remaining properties are passed to the constructor of\n          the specified trace type\n\n        (e.g. [{'type': 'scatter', ...}, {'type': 'bar, ...}])",
     "output_type": "error",
     "traceback": [
      "\u001b[0;31m---------------------------------------------------------------------------\u001b[0m",
      "\u001b[0;31mValueError\u001b[0m                                Traceback (most recent call last)",
      "\u001b[0;32m<ipython-input-31-64d3120312fc>\u001b[0m in \u001b[0;36m<module>\u001b[0;34m\u001b[0m\n\u001b[1;32m     39\u001b[0m \u001b[0;34m\u001b[0m\u001b[0m\n\u001b[1;32m     40\u001b[0m \u001b[0mfig\u001b[0m \u001b[0;34m=\u001b[0m \u001b[0mdict\u001b[0m\u001b[0;34m(\u001b[0m\u001b[0mdata\u001b[0m\u001b[0;34m=\u001b[0m\u001b[0mdim_low\u001b[0m\u001b[0;34m,\u001b[0m \u001b[0mlayout\u001b[0m\u001b[0;34m=\u001b[0m\u001b[0mlayout\u001b[0m\u001b[0;34m)\u001b[0m\u001b[0;34m\u001b[0m\u001b[0;34m\u001b[0m\u001b[0m\n\u001b[0;32m---> 41\u001b[0;31m \u001b[0mpy\u001b[0m\u001b[0;34m.\u001b[0m\u001b[0miplot\u001b[0m\u001b[0;34m(\u001b[0m\u001b[0mfig\u001b[0m\u001b[0;34m,\u001b[0m \u001b[0mfilename\u001b[0m\u001b[0;34m=\u001b[0m\u001b[0;34m'selecting-principal-components'\u001b[0m\u001b[0;34m)\u001b[0m\u001b[0;34m\u001b[0m\u001b[0;34m\u001b[0m\u001b[0m\n\u001b[0m",
      "\u001b[0;32m~/.local/lib/python3.6/site-packages/chart_studio/plotly/plotly.py\u001b[0m in \u001b[0;36miplot\u001b[0;34m(figure_or_data, **plot_options)\u001b[0m\n\u001b[1;32m    133\u001b[0m     \u001b[0;32mif\u001b[0m \u001b[0;34m\"auto_open\"\u001b[0m \u001b[0;32mnot\u001b[0m \u001b[0;32min\u001b[0m \u001b[0mplot_options\u001b[0m\u001b[0;34m:\u001b[0m\u001b[0;34m\u001b[0m\u001b[0;34m\u001b[0m\u001b[0m\n\u001b[1;32m    134\u001b[0m         \u001b[0mplot_options\u001b[0m\u001b[0;34m[\u001b[0m\u001b[0;34m\"auto_open\"\u001b[0m\u001b[0;34m]\u001b[0m \u001b[0;34m=\u001b[0m \u001b[0;32mFalse\u001b[0m\u001b[0;34m\u001b[0m\u001b[0;34m\u001b[0m\u001b[0m\n\u001b[0;32m--> 135\u001b[0;31m     \u001b[0murl\u001b[0m \u001b[0;34m=\u001b[0m \u001b[0mplot\u001b[0m\u001b[0;34m(\u001b[0m\u001b[0mfigure_or_data\u001b[0m\u001b[0;34m,\u001b[0m \u001b[0;34m**\u001b[0m\u001b[0mplot_options\u001b[0m\u001b[0;34m)\u001b[0m\u001b[0;34m\u001b[0m\u001b[0;34m\u001b[0m\u001b[0m\n\u001b[0m\u001b[1;32m    136\u001b[0m \u001b[0;34m\u001b[0m\u001b[0m\n\u001b[1;32m    137\u001b[0m     \u001b[0;32mif\u001b[0m \u001b[0misinstance\u001b[0m\u001b[0;34m(\u001b[0m\u001b[0mfigure_or_data\u001b[0m\u001b[0;34m,\u001b[0m \u001b[0mdict\u001b[0m\u001b[0;34m)\u001b[0m\u001b[0;34m:\u001b[0m\u001b[0;34m\u001b[0m\u001b[0;34m\u001b[0m\u001b[0m\n",
      "\u001b[0;32m~/.local/lib/python3.6/site-packages/chart_studio/plotly/plotly.py\u001b[0m in \u001b[0;36mplot\u001b[0;34m(figure_or_data, validate, **plot_options)\u001b[0m\n\u001b[1;32m    195\u001b[0m     \u001b[0;32mimport\u001b[0m \u001b[0mplotly\u001b[0m\u001b[0;34m.\u001b[0m\u001b[0mtools\u001b[0m\u001b[0;34m\u001b[0m\u001b[0;34m\u001b[0m\u001b[0m\n\u001b[1;32m    196\u001b[0m \u001b[0;34m\u001b[0m\u001b[0m\n\u001b[0;32m--> 197\u001b[0;31m     \u001b[0mfigure\u001b[0m \u001b[0;34m=\u001b[0m \u001b[0mplotly\u001b[0m\u001b[0;34m.\u001b[0m\u001b[0mtools\u001b[0m\u001b[0;34m.\u001b[0m\u001b[0mreturn_figure_from_figure_or_data\u001b[0m\u001b[0;34m(\u001b[0m\u001b[0mfigure_or_data\u001b[0m\u001b[0;34m,\u001b[0m \u001b[0mvalidate\u001b[0m\u001b[0;34m)\u001b[0m\u001b[0;34m\u001b[0m\u001b[0;34m\u001b[0m\u001b[0m\n\u001b[0m\u001b[1;32m    198\u001b[0m     \u001b[0;32mfor\u001b[0m \u001b[0mentry\u001b[0m \u001b[0;32min\u001b[0m \u001b[0mfigure\u001b[0m\u001b[0;34m[\u001b[0m\u001b[0;34m\"data\"\u001b[0m\u001b[0;34m]\u001b[0m\u001b[0;34m:\u001b[0m\u001b[0;34m\u001b[0m\u001b[0;34m\u001b[0m\u001b[0m\n\u001b[1;32m    199\u001b[0m         \u001b[0;32mif\u001b[0m \u001b[0;34m(\u001b[0m\u001b[0;34m\"type\"\u001b[0m \u001b[0;32min\u001b[0m \u001b[0mentry\u001b[0m\u001b[0;34m)\u001b[0m \u001b[0;32mand\u001b[0m \u001b[0;34m(\u001b[0m\u001b[0mentry\u001b[0m\u001b[0;34m[\u001b[0m\u001b[0;34m\"type\"\u001b[0m\u001b[0;34m]\u001b[0m \u001b[0;34m==\u001b[0m \u001b[0;34m\"scattergl\"\u001b[0m\u001b[0;34m)\u001b[0m\u001b[0;34m:\u001b[0m\u001b[0;34m\u001b[0m\u001b[0;34m\u001b[0m\u001b[0m\n",
      "\u001b[0;32m~/.local/lib/python3.6/site-packages/plotly/tools.py\u001b[0m in \u001b[0;36mreturn_figure_from_figure_or_data\u001b[0;34m(figure_or_data, validate_figure)\u001b[0m\n\u001b[1;32m    551\u001b[0m \u001b[0;34m\u001b[0m\u001b[0m\n\u001b[1;32m    552\u001b[0m         \u001b[0;32mtry\u001b[0m\u001b[0;34m:\u001b[0m\u001b[0;34m\u001b[0m\u001b[0;34m\u001b[0m\u001b[0m\n\u001b[0;32m--> 553\u001b[0;31m             \u001b[0mfigure\u001b[0m \u001b[0;34m=\u001b[0m \u001b[0mFigure\u001b[0m\u001b[0;34m(\u001b[0m\u001b[0;34m**\u001b[0m\u001b[0mfigure\u001b[0m\u001b[0;34m)\u001b[0m\u001b[0;34m.\u001b[0m\u001b[0mto_dict\u001b[0m\u001b[0;34m(\u001b[0m\u001b[0;34m)\u001b[0m\u001b[0;34m\u001b[0m\u001b[0;34m\u001b[0m\u001b[0m\n\u001b[0m\u001b[1;32m    554\u001b[0m         \u001b[0;32mexcept\u001b[0m \u001b[0mexceptions\u001b[0m\u001b[0;34m.\u001b[0m\u001b[0mPlotlyError\u001b[0m \u001b[0;32mas\u001b[0m \u001b[0merr\u001b[0m\u001b[0;34m:\u001b[0m\u001b[0;34m\u001b[0m\u001b[0;34m\u001b[0m\u001b[0m\n\u001b[1;32m    555\u001b[0m             raise exceptions.PlotlyError(\n",
      "\u001b[0;32m~/.local/lib/python3.6/site-packages/plotly/graph_objs/_figure.py\u001b[0m in \u001b[0;36m__init__\u001b[0;34m(self, data, layout, frames, skip_invalid, **kwargs)\u001b[0m\n\u001b[1;32m    626\u001b[0m             \u001b[0;32mis\u001b[0m \u001b[0minvalid\u001b[0m \u001b[0mAND\u001b[0m \u001b[0mskip_invalid\u001b[0m \u001b[0;32mis\u001b[0m \u001b[0;32mFalse\u001b[0m\u001b[0;34m\u001b[0m\u001b[0;34m\u001b[0m\u001b[0m\n\u001b[1;32m    627\u001b[0m         \"\"\"\n\u001b[0;32m--> 628\u001b[0;31m         \u001b[0msuper\u001b[0m\u001b[0;34m(\u001b[0m\u001b[0mFigure\u001b[0m\u001b[0;34m,\u001b[0m \u001b[0mself\u001b[0m\u001b[0;34m)\u001b[0m\u001b[0;34m.\u001b[0m\u001b[0m__init__\u001b[0m\u001b[0;34m(\u001b[0m\u001b[0mdata\u001b[0m\u001b[0;34m,\u001b[0m \u001b[0mlayout\u001b[0m\u001b[0;34m,\u001b[0m \u001b[0mframes\u001b[0m\u001b[0;34m,\u001b[0m \u001b[0mskip_invalid\u001b[0m\u001b[0;34m,\u001b[0m \u001b[0;34m**\u001b[0m\u001b[0mkwargs\u001b[0m\u001b[0;34m)\u001b[0m\u001b[0;34m\u001b[0m\u001b[0;34m\u001b[0m\u001b[0m\n\u001b[0m\u001b[1;32m    629\u001b[0m \u001b[0;34m\u001b[0m\u001b[0m\n\u001b[1;32m    630\u001b[0m     def add_area(\n",
      "\u001b[0;32m~/.local/lib/python3.6/site-packages/plotly/basedatatypes.py\u001b[0m in \u001b[0;36m__init__\u001b[0;34m(self, data, layout_plotly, frames, skip_invalid, **kwargs)\u001b[0m\n\u001b[1;32m    155\u001b[0m \u001b[0;34m\u001b[0m\u001b[0m\n\u001b[1;32m    156\u001b[0m         \u001b[0;31m# ### Import traces ###\u001b[0m\u001b[0;34m\u001b[0m\u001b[0;34m\u001b[0m\u001b[0;34m\u001b[0m\u001b[0m\n\u001b[0;32m--> 157\u001b[0;31m         \u001b[0mdata\u001b[0m \u001b[0;34m=\u001b[0m \u001b[0mself\u001b[0m\u001b[0;34m.\u001b[0m\u001b[0m_data_validator\u001b[0m\u001b[0;34m.\u001b[0m\u001b[0mvalidate_coerce\u001b[0m\u001b[0;34m(\u001b[0m\u001b[0mdata\u001b[0m\u001b[0;34m,\u001b[0m \u001b[0mskip_invalid\u001b[0m\u001b[0;34m=\u001b[0m\u001b[0mskip_invalid\u001b[0m\u001b[0;34m)\u001b[0m\u001b[0;34m\u001b[0m\u001b[0;34m\u001b[0m\u001b[0m\n\u001b[0m\u001b[1;32m    158\u001b[0m \u001b[0;34m\u001b[0m\u001b[0m\n\u001b[1;32m    159\u001b[0m         \u001b[0;31m# ### Save tuple of trace objects ###\u001b[0m\u001b[0;34m\u001b[0m\u001b[0;34m\u001b[0m\u001b[0;34m\u001b[0m\u001b[0m\n",
      "\u001b[0;32m~/.local/lib/python3.6/site-packages/_plotly_utils/basevalidators.py\u001b[0m in \u001b[0;36mvalidate_coerce\u001b[0;34m(self, v, skip_invalid)\u001b[0m\n\u001b[1;32m   2667\u001b[0m \u001b[0;34m\u001b[0m\u001b[0m\n\u001b[1;32m   2668\u001b[0m             \u001b[0;32mif\u001b[0m \u001b[0minvalid_els\u001b[0m\u001b[0;34m:\u001b[0m\u001b[0;34m\u001b[0m\u001b[0;34m\u001b[0m\u001b[0m\n\u001b[0;32m-> 2669\u001b[0;31m                 \u001b[0mself\u001b[0m\u001b[0;34m.\u001b[0m\u001b[0mraise_invalid_elements\u001b[0m\u001b[0;34m(\u001b[0m\u001b[0minvalid_els\u001b[0m\u001b[0;34m)\u001b[0m\u001b[0;34m\u001b[0m\u001b[0;34m\u001b[0m\u001b[0m\n\u001b[0m\u001b[1;32m   2670\u001b[0m \u001b[0;34m\u001b[0m\u001b[0m\n\u001b[1;32m   2671\u001b[0m             \u001b[0mv\u001b[0m \u001b[0;34m=\u001b[0m \u001b[0mto_scalar_or_list\u001b[0m\u001b[0;34m(\u001b[0m\u001b[0mres\u001b[0m\u001b[0;34m)\u001b[0m\u001b[0;34m\u001b[0m\u001b[0;34m\u001b[0m\u001b[0m\n",
      "\u001b[0;32m~/.local/lib/python3.6/site-packages/_plotly_utils/basevalidators.py\u001b[0m in \u001b[0;36mraise_invalid_elements\u001b[0;34m(self, invalid_els)\u001b[0m\n\u001b[1;32m    296\u001b[0m                     \u001b[0mpname\u001b[0m\u001b[0;34m=\u001b[0m\u001b[0mself\u001b[0m\u001b[0;34m.\u001b[0m\u001b[0mparent_name\u001b[0m\u001b[0;34m,\u001b[0m\u001b[0;34m\u001b[0m\u001b[0;34m\u001b[0m\u001b[0m\n\u001b[1;32m    297\u001b[0m                     \u001b[0minvalid\u001b[0m\u001b[0;34m=\u001b[0m\u001b[0minvalid_els\u001b[0m\u001b[0;34m[\u001b[0m\u001b[0;34m:\u001b[0m\u001b[0;36m10\u001b[0m\u001b[0;34m]\u001b[0m\u001b[0;34m,\u001b[0m\u001b[0;34m\u001b[0m\u001b[0;34m\u001b[0m\u001b[0m\n\u001b[0;32m--> 298\u001b[0;31m                     \u001b[0mvalid_clr_desc\u001b[0m\u001b[0;34m=\u001b[0m\u001b[0mself\u001b[0m\u001b[0;34m.\u001b[0m\u001b[0mdescription\u001b[0m\u001b[0;34m(\u001b[0m\u001b[0;34m)\u001b[0m\u001b[0;34m,\u001b[0m\u001b[0;34m\u001b[0m\u001b[0;34m\u001b[0m\u001b[0m\n\u001b[0m\u001b[1;32m    299\u001b[0m                 )\n\u001b[1;32m    300\u001b[0m             )\n",
      "\u001b[0;31mValueError\u001b[0m: \n    Invalid element(s) received for the 'data' property of \n        Invalid elements include: [array([[-9.28679193e-01,  1.95546165e+01],\n       [ 8.28839856e+00, -2.24889660e+01],\n       [ 7.32271022e+00, -1.16762534e+01],\n       ...,\n       [ 1.11320710e+01, -8.68051925e+00],\n       [-4.54131284e+00,  1.07036866e+01],\n       [-1.36023738e-02,  4.64528218e+00]])]\n\n    The 'data' property is a tuple of trace instances\n    that may be specified as:\n      - A list or tuple of trace instances\n        (e.g. [Scatter(...), Bar(...)])\n      - A single trace instance\n        (e.g. Scatter(...), Bar(...), etc.)\n      - A list or tuple of dicts of string/value properties where:\n        - The 'type' property specifies the trace type\n            One of: ['area', 'bar', 'barpolar', 'box',\n                     'candlestick', 'carpet', 'choropleth',\n                     'choroplethmapbox', 'cone', 'contour',\n                     'contourcarpet', 'densitymapbox', 'funnel',\n                     'funnelarea', 'heatmap', 'heatmapgl',\n                     'histogram', 'histogram2d',\n                     'histogram2dcontour', 'image', 'indicator',\n                     'isosurface', 'mesh3d', 'ohlc', 'parcats',\n                     'parcoords', 'pie', 'pointcloud', 'sankey',\n                     'scatter', 'scatter3d', 'scattercarpet',\n                     'scattergeo', 'scattergl', 'scattermapbox',\n                     'scatterpolar', 'scatterpolargl',\n                     'scatterternary', 'splom', 'streamtube',\n                     'sunburst', 'surface', 'table', 'treemap',\n                     'violin', 'volume', 'waterfall']\n\n        - All remaining properties are passed to the constructor of\n          the specified trace type\n\n        (e.g. [{'type': 'scatter', ...}, {'type': 'bar, ...}])"
     ]
    }
   ],
   "source": [
    "# total =sum(eigen_val)\n",
    "\n",
    "# var_exp=[(i/total)*100 for i in eigen_val]\n",
    "# cum_var_exp=np.cumsum(var_exp)\n",
    "\n",
    "# plot1=dict(\n",
    "#     type='bar',\n",
    "#     x=['PC %s'%i for i in range(40)],\n",
    "#     y=var_exp,\n",
    "#     name='Individual'\n",
    "# )\n",
    "\n",
    "# plot2=dict(\n",
    "#     type='scatter',\n",
    "#     x=['PC %s'%i for i in range(40)],\n",
    "#     y=cum_var_exp,\n",
    "#     name='Cumulative'\n",
    "# )\n",
    "\n",
    "# data=[d['Principal 1'],d['Principal 2']]\n",
    "\n",
    "\n",
    "# layout=dict(\n",
    "#     title='Explained variance by different principal components',\n",
    "#     yaxis=dict(\n",
    "#         title='Explained variance in percent'\n",
    "#     ),\n",
    "#     annotations=list([\n",
    "#         dict(\n",
    "#             x=1.16,\n",
    "#             y=1.05,\n",
    "#             xref='paper',\n",
    "#             yref='paper',\n",
    "#             text='Explained Variance',\n",
    "#             showarrow=False,\n",
    "#         )\n",
    "#     ])\n",
    "# )\n",
    "\n",
    "# fig = dict(data=dim_low, layout=layout)\n",
    "# py.iplot(fig, filename='selecting-principal-components')"
   ]
  },
  {
   "cell_type": "code",
   "execution_count": null,
   "metadata": {},
   "outputs": [],
   "source": []
  }
 ],
 "metadata": {
  "kernelspec": {
   "display_name": "Python 3",
   "language": "python",
   "name": "python3"
  },
  "language_info": {
   "codemirror_mode": {
    "name": "ipython",
    "version": 3
   },
   "file_extension": ".py",
   "mimetype": "text/x-python",
   "name": "python",
   "nbconvert_exporter": "python",
   "pygments_lexer": "ipython3",
   "version": "3.6.9"
  }
 },
 "nbformat": 4,
 "nbformat_minor": 4
}
